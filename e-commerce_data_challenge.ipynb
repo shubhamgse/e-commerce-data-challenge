{
 "cells": [
  {
   "cell_type": "code",
   "execution_count": 112,
   "metadata": {},
   "outputs": [],
   "source": [
    "#Importing libraries\n",
    "import pandas as pd\n",
    "import matplotlib.pylab as plt\n",
    "from scipy import stats\n",
    "import numpy as np\n",
    "from itertools import combinations, groupby\n",
    "from collections import Counter\n",
    "import statsmodels.api as sm\n",
    "from sklearn.metrics import mean_squared_error\n",
    "from math import sqrt\n",
    "import seaborn as sb\n",
    "import itertools\n",
    "import datetime\n",
    "%matplotlib inline\n",
    "import warnings\n",
    "warnings.filterwarnings('ignore')"
   ]
  },
  {
   "cell_type": "markdown",
   "metadata": {},
   "source": [
    "# Understanding data"
   ]
  },
  {
   "cell_type": "markdown",
   "metadata": {},
   "source": [
    "Load Dataset"
   ]
  },
  {
   "cell_type": "code",
   "execution_count": 113,
   "metadata": {},
   "outputs": [
    {
     "name": "stdout",
     "output_type": "stream",
     "text": [
      "Loading Dataset Successful\n"
     ]
    }
   ],
   "source": [
    "#Load into pandas dataframe\n",
    "try:\n",
    "    df = pd.read_excel(\"Online_retail_Data.xlsx\")\n",
    "    print(\"Loading Dataset Successful\")\n",
    "except:\n",
    "    print(\"Loading Dataset unsuccessful. Please check if file is present in same folder as this program with file name Online_retail_Data.xlsx\")"
   ]
  },
  {
   "cell_type": "code",
   "execution_count": 114,
   "metadata": {},
   "outputs": [
    {
     "name": "stdout",
     "output_type": "stream",
     "text": [
      "Row count: 540509 \n",
      "Column count: 8\n"
     ]
    }
   ],
   "source": [
    "#Checking count of rows and columns in dataset\n",
    "rows, columns = df.shape\n",
    "\n",
    "print(\"Row count:\",rows,\"\\nColumn count:\",columns)"
   ]
  },
  {
   "cell_type": "code",
   "execution_count": 115,
   "metadata": {},
   "outputs": [
    {
     "name": "stdout",
     "output_type": "stream",
     "text": [
      "Available features with data type are:\n",
      "\n",
      "InvoiceNo              object\n",
      "StockCode              object\n",
      "Description            object\n",
      "Quantity                int64\n",
      "InvoiceDate    datetime64[ns]\n",
      "UnitPrice             float64\n",
      "CustomerID            float64\n",
      "Country                object\n",
      "dtype: object\n"
     ]
    }
   ],
   "source": [
    "print(\"Available features with data type are:\\n\")\n",
    "print(df.dtypes)"
   ]
  },
  {
   "cell_type": "code",
   "execution_count": 116,
   "metadata": {},
   "outputs": [
    {
     "data": {
      "text/html": [
       "<div>\n",
       "<style scoped>\n",
       "    .dataframe tbody tr th:only-of-type {\n",
       "        vertical-align: middle;\n",
       "    }\n",
       "\n",
       "    .dataframe tbody tr th {\n",
       "        vertical-align: top;\n",
       "    }\n",
       "\n",
       "    .dataframe thead th {\n",
       "        text-align: right;\n",
       "    }\n",
       "</style>\n",
       "<table border=\"1\" class=\"dataframe\">\n",
       "  <thead>\n",
       "    <tr style=\"text-align: right;\">\n",
       "      <th></th>\n",
       "      <th>InvoiceNo</th>\n",
       "      <th>StockCode</th>\n",
       "      <th>Description</th>\n",
       "      <th>Quantity</th>\n",
       "      <th>InvoiceDate</th>\n",
       "      <th>UnitPrice</th>\n",
       "      <th>CustomerID</th>\n",
       "      <th>Country</th>\n",
       "    </tr>\n",
       "  </thead>\n",
       "  <tbody>\n",
       "    <tr>\n",
       "      <th>0</th>\n",
       "      <td>536365</td>\n",
       "      <td>85123A</td>\n",
       "      <td>WHITE HANGING HEART T-LIGHT HOLDER</td>\n",
       "      <td>6</td>\n",
       "      <td>2010-12-01 08:26:00</td>\n",
       "      <td>2.55</td>\n",
       "      <td>17850.0</td>\n",
       "      <td>United Kingdom</td>\n",
       "    </tr>\n",
       "    <tr>\n",
       "      <th>1</th>\n",
       "      <td>536365</td>\n",
       "      <td>71053</td>\n",
       "      <td>WHITE METAL LANTERN</td>\n",
       "      <td>6</td>\n",
       "      <td>2010-12-01 08:26:00</td>\n",
       "      <td>3.39</td>\n",
       "      <td>17850.0</td>\n",
       "      <td>United Kingdom</td>\n",
       "    </tr>\n",
       "    <tr>\n",
       "      <th>2</th>\n",
       "      <td>536365</td>\n",
       "      <td>84406B</td>\n",
       "      <td>CREAM CUPID HEARTS COAT HANGER</td>\n",
       "      <td>8</td>\n",
       "      <td>2010-12-01 08:26:00</td>\n",
       "      <td>2.75</td>\n",
       "      <td>17850.0</td>\n",
       "      <td>United Kingdom</td>\n",
       "    </tr>\n",
       "    <tr>\n",
       "      <th>3</th>\n",
       "      <td>536365</td>\n",
       "      <td>84029G</td>\n",
       "      <td>KNITTED UNION FLAG HOT WATER BOTTLE</td>\n",
       "      <td>6</td>\n",
       "      <td>2010-12-01 08:26:00</td>\n",
       "      <td>3.39</td>\n",
       "      <td>17850.0</td>\n",
       "      <td>United Kingdom</td>\n",
       "    </tr>\n",
       "    <tr>\n",
       "      <th>4</th>\n",
       "      <td>536365</td>\n",
       "      <td>84029E</td>\n",
       "      <td>RED WOOLLY HOTTIE WHITE HEART.</td>\n",
       "      <td>6</td>\n",
       "      <td>2010-12-01 08:26:00</td>\n",
       "      <td>3.39</td>\n",
       "      <td>17850.0</td>\n",
       "      <td>United Kingdom</td>\n",
       "    </tr>\n",
       "  </tbody>\n",
       "</table>\n",
       "</div>"
      ],
      "text/plain": [
       "  InvoiceNo StockCode                          Description  Quantity  \\\n",
       "0    536365    85123A   WHITE HANGING HEART T-LIGHT HOLDER         6   \n",
       "1    536365     71053                  WHITE METAL LANTERN         6   \n",
       "2    536365    84406B       CREAM CUPID HEARTS COAT HANGER         8   \n",
       "3    536365    84029G  KNITTED UNION FLAG HOT WATER BOTTLE         6   \n",
       "4    536365    84029E       RED WOOLLY HOTTIE WHITE HEART.         6   \n",
       "\n",
       "          InvoiceDate  UnitPrice  CustomerID         Country  \n",
       "0 2010-12-01 08:26:00       2.55     17850.0  United Kingdom  \n",
       "1 2010-12-01 08:26:00       3.39     17850.0  United Kingdom  \n",
       "2 2010-12-01 08:26:00       2.75     17850.0  United Kingdom  \n",
       "3 2010-12-01 08:26:00       3.39     17850.0  United Kingdom  \n",
       "4 2010-12-01 08:26:00       3.39     17850.0  United Kingdom  "
      ]
     },
     "execution_count": 116,
     "metadata": {},
     "output_type": "execute_result"
    }
   ],
   "source": [
    "#Describing features\n",
    "df.head()"
   ]
  },
  {
   "cell_type": "markdown",
   "metadata": {},
   "source": [
    "InvoiceNo - Unique number assigned to a shipment for billing purpose\n",
    "\n",
    "StockCode - Helps track the item for inventory\n",
    "\n",
    "Description - Product name\n",
    "\n",
    "Quantity - Amount purchased\n",
    "\n",
    "InvoiceDate - Date and time of purchase\n",
    "\n",
    "UnitPrice - Cost of product\n",
    "\n",
    "CustomerID - Unique id for customer\n",
    "\n",
    "Country - Contry of purchase"
   ]
  },
  {
   "cell_type": "markdown",
   "metadata": {},
   "source": [
    "# Data cleaning"
   ]
  },
  {
   "cell_type": "code",
   "execution_count": 117,
   "metadata": {},
   "outputs": [
    {
     "name": "stdout",
     "output_type": "stream",
     "text": [
      "InvoiceNo           0\n",
      "StockCode           0\n",
      "Description      1454\n",
      "Quantity            0\n",
      "InvoiceDate         0\n",
      "UnitPrice           0\n",
      "CustomerID     134130\n",
      "Country             0\n",
      "dtype: int64\n"
     ]
    }
   ],
   "source": [
    "#Check for null values in our columns\n",
    "print(df.isnull().sum())"
   ]
  },
  {
   "cell_type": "markdown",
   "metadata": {},
   "source": [
    "There can be two things donwe with null values:\n",
    "\n",
    "1. Remove\n",
    "2. Imputation\n",
    "\n",
    "In our case the columns customerID and Description have null values. But, according to me these values can not be imputed because they are independent and not continuous.\n",
    "\n",
    "So we will remove them."
   ]
  },
  {
   "cell_type": "code",
   "execution_count": 118,
   "metadata": {},
   "outputs": [
    {
     "name": "stdout",
     "output_type": "stream",
     "text": [
      "InvoiceNo      0\n",
      "StockCode      0\n",
      "Description    0\n",
      "Quantity       0\n",
      "InvoiceDate    0\n",
      "UnitPrice      0\n",
      "CustomerID     0\n",
      "Country        0\n",
      "dtype: int64\n"
     ]
    }
   ],
   "source": [
    "#Removing null valued rows\n",
    "df = df[~((df['CustomerID'].isnull()) | (df['Description'].isnull()))]\n",
    "print(df.isnull().sum())"
   ]
  },
  {
   "cell_type": "code",
   "execution_count": 119,
   "metadata": {},
   "outputs": [],
   "source": [
    "#Removing data with quantity value less than 0\n",
    "df = df[~(df['Quantity']<=0)]"
   ]
  },
  {
   "cell_type": "code",
   "execution_count": 120,
   "metadata": {},
   "outputs": [],
   "source": [
    "#Removing data with nan Descripton values\n",
    "df = df[~((df['Description'] == 'nan') | (df['Description'] == 'NAN'))]"
   ]
  },
  {
   "cell_type": "markdown",
   "metadata": {},
   "source": [
    "# Feature Engineering"
   ]
  },
  {
   "cell_type": "code",
   "execution_count": 121,
   "metadata": {},
   "outputs": [
    {
     "data": {
      "text/html": [
       "<div>\n",
       "<style scoped>\n",
       "    .dataframe tbody tr th:only-of-type {\n",
       "        vertical-align: middle;\n",
       "    }\n",
       "\n",
       "    .dataframe tbody tr th {\n",
       "        vertical-align: top;\n",
       "    }\n",
       "\n",
       "    .dataframe thead th {\n",
       "        text-align: right;\n",
       "    }\n",
       "</style>\n",
       "<table border=\"1\" class=\"dataframe\">\n",
       "  <thead>\n",
       "    <tr style=\"text-align: right;\">\n",
       "      <th></th>\n",
       "      <th>InvoiceNo</th>\n",
       "      <th>StockCode</th>\n",
       "      <th>Description</th>\n",
       "      <th>Quantity</th>\n",
       "      <th>InvoiceDate</th>\n",
       "      <th>UnitPrice</th>\n",
       "      <th>CustomerID</th>\n",
       "      <th>Country</th>\n",
       "      <th>total_cost</th>\n",
       "      <th>hour</th>\n",
       "      <th>day_of_week</th>\n",
       "      <th>month</th>\n",
       "      <th>year</th>\n",
       "    </tr>\n",
       "  </thead>\n",
       "  <tbody>\n",
       "    <tr>\n",
       "      <th>0</th>\n",
       "      <td>536365</td>\n",
       "      <td>85123A</td>\n",
       "      <td>WHITE HANGING HEART T-LIGHT HOLDER</td>\n",
       "      <td>6</td>\n",
       "      <td>2010-12-01 08:26:00</td>\n",
       "      <td>2.55</td>\n",
       "      <td>17850.0</td>\n",
       "      <td>United Kingdom</td>\n",
       "      <td>15.30</td>\n",
       "      <td>8</td>\n",
       "      <td>2</td>\n",
       "      <td>12</td>\n",
       "      <td>2010</td>\n",
       "    </tr>\n",
       "    <tr>\n",
       "      <th>1</th>\n",
       "      <td>536365</td>\n",
       "      <td>71053</td>\n",
       "      <td>WHITE METAL LANTERN</td>\n",
       "      <td>6</td>\n",
       "      <td>2010-12-01 08:26:00</td>\n",
       "      <td>3.39</td>\n",
       "      <td>17850.0</td>\n",
       "      <td>United Kingdom</td>\n",
       "      <td>20.34</td>\n",
       "      <td>8</td>\n",
       "      <td>2</td>\n",
       "      <td>12</td>\n",
       "      <td>2010</td>\n",
       "    </tr>\n",
       "    <tr>\n",
       "      <th>2</th>\n",
       "      <td>536365</td>\n",
       "      <td>84406B</td>\n",
       "      <td>CREAM CUPID HEARTS COAT HANGER</td>\n",
       "      <td>8</td>\n",
       "      <td>2010-12-01 08:26:00</td>\n",
       "      <td>2.75</td>\n",
       "      <td>17850.0</td>\n",
       "      <td>United Kingdom</td>\n",
       "      <td>22.00</td>\n",
       "      <td>8</td>\n",
       "      <td>2</td>\n",
       "      <td>12</td>\n",
       "      <td>2010</td>\n",
       "    </tr>\n",
       "    <tr>\n",
       "      <th>3</th>\n",
       "      <td>536365</td>\n",
       "      <td>84029G</td>\n",
       "      <td>KNITTED UNION FLAG HOT WATER BOTTLE</td>\n",
       "      <td>6</td>\n",
       "      <td>2010-12-01 08:26:00</td>\n",
       "      <td>3.39</td>\n",
       "      <td>17850.0</td>\n",
       "      <td>United Kingdom</td>\n",
       "      <td>20.34</td>\n",
       "      <td>8</td>\n",
       "      <td>2</td>\n",
       "      <td>12</td>\n",
       "      <td>2010</td>\n",
       "    </tr>\n",
       "    <tr>\n",
       "      <th>4</th>\n",
       "      <td>536365</td>\n",
       "      <td>84029E</td>\n",
       "      <td>RED WOOLLY HOTTIE WHITE HEART.</td>\n",
       "      <td>6</td>\n",
       "      <td>2010-12-01 08:26:00</td>\n",
       "      <td>3.39</td>\n",
       "      <td>17850.0</td>\n",
       "      <td>United Kingdom</td>\n",
       "      <td>20.34</td>\n",
       "      <td>8</td>\n",
       "      <td>2</td>\n",
       "      <td>12</td>\n",
       "      <td>2010</td>\n",
       "    </tr>\n",
       "  </tbody>\n",
       "</table>\n",
       "</div>"
      ],
      "text/plain": [
       "  InvoiceNo StockCode                          Description  Quantity  \\\n",
       "0    536365    85123A   WHITE HANGING HEART T-LIGHT HOLDER         6   \n",
       "1    536365     71053                  WHITE METAL LANTERN         6   \n",
       "2    536365    84406B       CREAM CUPID HEARTS COAT HANGER         8   \n",
       "3    536365    84029G  KNITTED UNION FLAG HOT WATER BOTTLE         6   \n",
       "4    536365    84029E       RED WOOLLY HOTTIE WHITE HEART.         6   \n",
       "\n",
       "          InvoiceDate  UnitPrice  CustomerID         Country  total_cost  \\\n",
       "0 2010-12-01 08:26:00       2.55     17850.0  United Kingdom       15.30   \n",
       "1 2010-12-01 08:26:00       3.39     17850.0  United Kingdom       20.34   \n",
       "2 2010-12-01 08:26:00       2.75     17850.0  United Kingdom       22.00   \n",
       "3 2010-12-01 08:26:00       3.39     17850.0  United Kingdom       20.34   \n",
       "4 2010-12-01 08:26:00       3.39     17850.0  United Kingdom       20.34   \n",
       "\n",
       "   hour  day_of_week  month  year  \n",
       "0     8            2     12  2010  \n",
       "1     8            2     12  2010  \n",
       "2     8            2     12  2010  \n",
       "3     8            2     12  2010  \n",
       "4     8            2     12  2010  "
      ]
     },
     "execution_count": 121,
     "metadata": {},
     "output_type": "execute_result"
    }
   ],
   "source": [
    "#Creating new useful features\n",
    "\n",
    "#Total cost of purchase\n",
    "df['total_cost'] = df['Quantity'] * df['UnitPrice']\n",
    "\n",
    "#Purchase made on hour of day\n",
    "df['hour'] = pd.DatetimeIndex(df['InvoiceDate']).hour\n",
    "df['day_of_week'] = pd.DatetimeIndex(df['InvoiceDate']).dayofweek\n",
    "df['month'] = pd.DatetimeIndex(df['InvoiceDate']).month\n",
    "df['year'] = pd.DatetimeIndex(df['InvoiceDate']).year\n",
    "\n",
    "df.head()"
   ]
  },
  {
   "cell_type": "markdown",
   "metadata": {},
   "source": [
    "# Time for some insights"
   ]
  },
  {
   "cell_type": "code",
   "execution_count": 122,
   "metadata": {},
   "outputs": [
    {
     "data": {
      "image/png": "[encoded data removed]",
      "text/plain": [
       "<Figure size 432x288 with 1 Axes>"
      ]
     },
     "metadata": {
      "needs_background": "light"
     },
     "output_type": "display_data"
    }
   ],
   "source": [
    "#Product sales grouped by hour of day\n",
    "\n",
    "check = pd.DataFrame()\n",
    "check['hour'] = df['hour']\n",
    "check['count'] = df['InvoiceNo']\n",
    "\n",
    "display = check.groupby('hour',as_index=False)['count'].count()\n",
    "\n",
    "#Plotting bar chart\n",
    "plt.bar(display['hour'],display['count'])\n",
    "plt.xlabel('Hour of day')\n",
    "plt.ylabel('Count of item sold')\n",
    "plt.xticks(display['hour'])\n",
    "plt.title('Product sales grouped by hour of day')\n",
    "plt.show()"
   ]
  },
  {
   "cell_type": "markdown",
   "metadata": {},
   "source": [
    "Looks like highest number of product sales are made in the afternoon 12 p.m. and sales fall after the evening till morning 6 a.m. This may be because people make most purchases in the afternoon when they have free time."
   ]
  },
  {
   "cell_type": "code",
   "execution_count": 123,
   "metadata": {},
   "outputs": [
    {
     "data": {
      "image/png": "[encoded data removed]",
      "text/plain": [
       "<Figure size 432x288 with 1 Axes>"
      ]
     },
     "metadata": {
      "needs_background": "light"
     },
     "output_type": "display_data"
    }
   ],
   "source": [
    "#Product sales grouped by month\n",
    "\n",
    "check['month'] = df['month']\n",
    "\n",
    "display = check.groupby('month',as_index=False)['count'].count()\n",
    "\n",
    "#Plotting bar chart\n",
    "plt.bar(display['month'],display['count'])\n",
    "plt.xlabel('Month')\n",
    "plt.ylabel('Count of item sold')\n",
    "plt.xticks(display['month'])\n",
    "plt.title('Product sales grouped by month(January=1 to December=12)')\n",
    "plt.show()"
   ]
  },
  {
   "cell_type": "markdown",
   "metadata": {},
   "source": [
    "As seen above, the highest count of item were sold in  the month of November. This may be due to there is some kind of promotional or seasonal sale on the products in month of November."
   ]
  },
  {
   "cell_type": "code",
   "execution_count": 124,
   "metadata": {},
   "outputs": [
    {
     "data": {
      "image/png": "[encoded data removed]",
      "text/plain": [
       "<Figure size 864x720 with 1 Axes>"
      ]
     },
     "metadata": {
      "needs_background": "light"
     },
     "output_type": "display_data"
    }
   ],
   "source": [
    "#Product sales grouped by country\n",
    "\n",
    "check['Country'] = df['Country']\n",
    "\n",
    "display = check.groupby('Country',as_index=False)['count'].count()\n",
    "\n",
    "#Plotting bar chart\n",
    "plt.figure(figsize=(12,10))\n",
    "plt.bar(display['Country'],display['count'])\n",
    "plt.xlabel('Country')\n",
    "plt.ylabel('Count of item sold')\n",
    "plt.xticks(display['Country'], rotation='vertical')\n",
    "plt.title('Product sales grouped by Country')\n",
    "plt.show()"
   ]
  },
  {
   "cell_type": "markdown",
   "metadata": {},
   "source": [
    "From above figure we can infer that ABC company is United Kingdom based company or it has biggest market in UK."
   ]
  },
  {
   "cell_type": "code",
   "execution_count": 125,
   "metadata": {},
   "outputs": [],
   "source": [
    "#Top selling product by average quantity sold\n",
    "\n",
    "check['Description'] = df['Description']\n",
    "check['Quantity'] = df['Quantity']\n",
    "\n",
    "display = check.groupby('Description',as_index=False)['Quantity'].mean()\n",
    "\n",
    "display.sort_values(by=['Quantity'],ascending=False,inplace=True)\n"
   ]
  },
  {
   "cell_type": "code",
   "execution_count": 126,
   "metadata": {},
   "outputs": [
    {
     "data": {
      "text/html": [
       "<div>\n",
       "<style scoped>\n",
       "    .dataframe tbody tr th:only-of-type {\n",
       "        vertical-align: middle;\n",
       "    }\n",
       "\n",
       "    .dataframe tbody tr th {\n",
       "        vertical-align: top;\n",
       "    }\n",
       "\n",
       "    .dataframe thead th {\n",
       "        text-align: right;\n",
       "    }\n",
       "</style>\n",
       "<table border=\"1\" class=\"dataframe\">\n",
       "  <thead>\n",
       "    <tr style=\"text-align: right;\">\n",
       "      <th></th>\n",
       "      <th>Description</th>\n",
       "      <th>Quantity</th>\n",
       "    </tr>\n",
       "  </thead>\n",
       "  <tbody>\n",
       "    <tr>\n",
       "      <th>2319</th>\n",
       "      <td>PAPER CRAFT , LITTLE BIRDIE</td>\n",
       "      <td>80995.000000</td>\n",
       "    </tr>\n",
       "    <tr>\n",
       "      <th>3423</th>\n",
       "      <td>TEA TIME TEA TOWELS</td>\n",
       "      <td>1300.000000</td>\n",
       "    </tr>\n",
       "    <tr>\n",
       "      <th>1398</th>\n",
       "      <td>GIRLS ALPHABET IRON ON PATCHES</td>\n",
       "      <td>520.000000</td>\n",
       "    </tr>\n",
       "    <tr>\n",
       "      <th>1992</th>\n",
       "      <td>MEDIUM CERAMIC TOP STORAGE JAR</td>\n",
       "      <td>393.515152</td>\n",
       "    </tr>\n",
       "    <tr>\n",
       "      <th>246</th>\n",
       "      <td>ASSTD DESIGN 3D PAPER STICKERS</td>\n",
       "      <td>380.611111</td>\n",
       "    </tr>\n",
       "    <tr>\n",
       "      <th>1155</th>\n",
       "      <td>ESSENTIAL BALM 3.5g TIN IN ENVELOPE</td>\n",
       "      <td>325.333333</td>\n",
       "    </tr>\n",
       "    <tr>\n",
       "      <th>3135</th>\n",
       "      <td>SET/5 RED SPOTTY LID GLASS BOWLS</td>\n",
       "      <td>288.000000</td>\n",
       "    </tr>\n",
       "    <tr>\n",
       "      <th>531</th>\n",
       "      <td>BOYS ALPHABET IRON ON PATCHES</td>\n",
       "      <td>249.600000</td>\n",
       "    </tr>\n",
       "    <tr>\n",
       "      <th>3242</th>\n",
       "      <td>SMALL CHINESE STYLE SCISSOR</td>\n",
       "      <td>246.814815</td>\n",
       "    </tr>\n",
       "    <tr>\n",
       "      <th>2082</th>\n",
       "      <td>MISELTOE HEART WREATH CREAM</td>\n",
       "      <td>240.000000</td>\n",
       "    </tr>\n",
       "  </tbody>\n",
       "</table>\n",
       "</div>"
      ],
      "text/plain": [
       "                              Description      Quantity\n",
       "2319          PAPER CRAFT , LITTLE BIRDIE  80995.000000\n",
       "3423                 TEA TIME TEA TOWELS    1300.000000\n",
       "1398      GIRLS ALPHABET IRON ON PATCHES     520.000000\n",
       "1992       MEDIUM CERAMIC TOP STORAGE JAR    393.515152\n",
       "246        ASSTD DESIGN 3D PAPER STICKERS    380.611111\n",
       "1155  ESSENTIAL BALM 3.5g TIN IN ENVELOPE    325.333333\n",
       "3135     SET/5 RED SPOTTY LID GLASS BOWLS    288.000000\n",
       "531         BOYS ALPHABET IRON ON PATCHES    249.600000\n",
       "3242          SMALL CHINESE STYLE SCISSOR    246.814815\n",
       "2082          MISELTOE HEART WREATH CREAM    240.000000"
      ]
     },
     "execution_count": 126,
     "metadata": {},
     "output_type": "execute_result"
    }
   ],
   "source": [
    "display.head(10)"
   ]
  },
  {
   "cell_type": "code",
   "execution_count": 127,
   "metadata": {},
   "outputs": [],
   "source": [
    "#Top selling product by average revenue earned\n",
    "\n",
    "#check['Description'] = df['Description']\n",
    "check['total_cost'] = df['total_cost']\n",
    "\n",
    "display = check.groupby('Description',as_index=False)['total_cost'].mean()\n",
    "\n",
    "display.sort_values(by=['total_cost'],ascending=False,inplace=True)"
   ]
  },
  {
   "cell_type": "code",
   "execution_count": 128,
   "metadata": {},
   "outputs": [
    {
     "data": {
      "text/html": [
       "<div>\n",
       "<style scoped>\n",
       "    .dataframe tbody tr th:only-of-type {\n",
       "        vertical-align: middle;\n",
       "    }\n",
       "\n",
       "    .dataframe tbody tr th {\n",
       "        vertical-align: top;\n",
       "    }\n",
       "\n",
       "    .dataframe thead th {\n",
       "        text-align: right;\n",
       "    }\n",
       "</style>\n",
       "<table border=\"1\" class=\"dataframe\">\n",
       "  <thead>\n",
       "    <tr style=\"text-align: right;\">\n",
       "      <th></th>\n",
       "      <th>Description</th>\n",
       "      <th>total_cost</th>\n",
       "    </tr>\n",
       "  </thead>\n",
       "  <tbody>\n",
       "    <tr>\n",
       "      <th>2319</th>\n",
       "      <td>PAPER CRAFT , LITTLE BIRDIE</td>\n",
       "      <td>168469.600000</td>\n",
       "    </tr>\n",
       "    <tr>\n",
       "      <th>2395</th>\n",
       "      <td>PICNIC BASKET WICKER 60 PIECES</td>\n",
       "      <td>19809.750000</td>\n",
       "    </tr>\n",
       "    <tr>\n",
       "      <th>3423</th>\n",
       "      <td>TEA TIME TEA TOWELS</td>\n",
       "      <td>3022.500000</td>\n",
       "    </tr>\n",
       "    <tr>\n",
       "      <th>2082</th>\n",
       "      <td>MISELTOE HEART WREATH CREAM</td>\n",
       "      <td>996.000000</td>\n",
       "    </tr>\n",
       "    <tr>\n",
       "      <th>1036</th>\n",
       "      <td>DOTCOM POSTAGE</td>\n",
       "      <td>744.147500</td>\n",
       "    </tr>\n",
       "    <tr>\n",
       "      <th>3135</th>\n",
       "      <td>SET/5 RED SPOTTY LID GLASS BOWLS</td>\n",
       "      <td>734.400000</td>\n",
       "    </tr>\n",
       "    <tr>\n",
       "      <th>1539</th>\n",
       "      <td>HALL CABINET WITH 3 DRAWERS</td>\n",
       "      <td>625.882500</td>\n",
       "    </tr>\n",
       "    <tr>\n",
       "      <th>2616</th>\n",
       "      <td>POTTING SHED CANDLE CITRONELLA</td>\n",
       "      <td>625.410000</td>\n",
       "    </tr>\n",
       "    <tr>\n",
       "      <th>3670</th>\n",
       "      <td>WEEKEND BAG VINTAGE ROSE PAISLEY</td>\n",
       "      <td>527.850000</td>\n",
       "    </tr>\n",
       "    <tr>\n",
       "      <th>3527</th>\n",
       "      <td>UTILTY CABINET WITH HOOKS</td>\n",
       "      <td>435.048333</td>\n",
       "    </tr>\n",
       "  </tbody>\n",
       "</table>\n",
       "</div>"
      ],
      "text/plain": [
       "                           Description     total_cost\n",
       "2319       PAPER CRAFT , LITTLE BIRDIE  168469.600000\n",
       "2395    PICNIC BASKET WICKER 60 PIECES   19809.750000\n",
       "3423              TEA TIME TEA TOWELS     3022.500000\n",
       "2082       MISELTOE HEART WREATH CREAM     996.000000\n",
       "1036                    DOTCOM POSTAGE     744.147500\n",
       "3135  SET/5 RED SPOTTY LID GLASS BOWLS     734.400000\n",
       "1539       HALL CABINET WITH 3 DRAWERS     625.882500\n",
       "2616    POTTING SHED CANDLE CITRONELLA     625.410000\n",
       "3670  WEEKEND BAG VINTAGE ROSE PAISLEY     527.850000\n",
       "3527         UTILTY CABINET WITH HOOKS     435.048333"
      ]
     },
     "execution_count": 128,
     "metadata": {},
     "output_type": "execute_result"
    }
   ],
   "source": [
    "display.head(10)"
   ]
  },
  {
   "cell_type": "markdown",
   "metadata": {},
   "source": [
    "So we have now collected different kinds of insights about our data which can be used in future work."
   ]
  },
  {
   "cell_type": "markdown",
   "metadata": {},
   "source": [
    "# Recommender system (Market basket analysis)"
   ]
  },
  {
   "cell_type": "code",
   "execution_count": 129,
   "metadata": {
    "scrolled": true
   },
   "outputs": [
    {
     "name": "stdout",
     "output_type": "stream",
     "text": [
      "InvoiceNo\n",
      "536365    85123A\n",
      "536365     71053\n",
      "536365    84406B\n",
      "536365    84029G\n",
      "536365    84029E\n",
      "536365     22752\n",
      "536365     21730\n",
      "536366     22633\n",
      "536366     22632\n",
      "536367     84879\n",
      "Name: item_id, dtype: object\n"
     ]
    },
    {
     "data": {
      "text/plain": [
       "pandas.core.series.Series"
      ]
     },
     "execution_count": 129,
     "metadata": {},
     "output_type": "execute_result"
    }
   ],
   "source": [
    "#Converting dataframe to series to perform analysis\n",
    "orders = df.set_index('InvoiceNo')['StockCode'].rename('item_id')\n",
    "print(orders.head(10))\n",
    "type(orders)"
   ]
  },
  {
   "cell_type": "code",
   "execution_count": 130,
   "metadata": {
    "scrolled": true
   },
   "outputs": [
    {
     "name": "stdout",
     "output_type": "stream",
     "text": [
      "Dimension: 397478 \n",
      "Unique orders: 18510 \n",
      "Unique items: 3665\n"
     ]
    }
   ],
   "source": [
    "#Lets check out some order statistics\n",
    "print('Dimension:',orders.shape[0],'\\nUnique orders:',len(orders.index.unique()),\n",
    "      '\\nUnique items:',len(orders.value_counts()))"
   ]
  },
  {
   "cell_type": "code",
   "execution_count": 131,
   "metadata": {},
   "outputs": [],
   "source": [
    "#Building functions for association rule\n",
    "\n",
    "#Return count for items and item pairs\n",
    "def freq(iterable):\n",
    "    if type(iterable) == pd.core.series.Series:\n",
    "        return iterable.value_counts().rename(\"freq\")\n",
    "    else:\n",
    "        return pd.Series(Counter(iterable)).rename(\"freq\")\n",
    "\n",
    "\n",
    "#Return count of unique orders\n",
    "def order_count(order_item):\n",
    "    return len(set(order_item.index))\n",
    "\n",
    "\n",
    "#To handle big dataset, I am using generator to give item pairs\n",
    "def get_item_pairs(order_item):\n",
    "    order_item = order_item.reset_index().as_matrix()\n",
    "    for order_id, order_object in groupby(order_item, lambda x: x[0]):\n",
    "        item_list = [item[1] for item in order_object]\n",
    "              \n",
    "        for item_pair in combinations(item_list, 2):\n",
    "            yield item_pair\n",
    "            \n",
    "\n",
    "# Returns frequency and support associated with item\n",
    "def merge_item_stats(item_pairs, item_stats):\n",
    "    return (item_pairs\n",
    "                .merge(item_stats.rename(columns={'freq': 'freqA', 'support': 'supportA'}),\n",
    "                       left_on='item_A', right_index=True)\n",
    "                .merge(item_stats.rename(columns={'freq': 'freqB', 'support': 'supportB'}),\n",
    "                       left_on='item_B', right_index=True))\n",
    "\n",
    "\n",
    "# Returns name associated with item\n",
    "def merge_item_name(rules, item_name):\n",
    "    columns = ['itemA','itemB','freqAB','supportAB','freqA','supportA','freqB','supportB', \n",
    "               'confidenceAtoB','confidenceBtoA','lift']\n",
    "    rules = (rules\n",
    "                .merge(item_name.rename(columns={'item_name': 'itemA'}), left_on='item_A', right_on='item_id')\n",
    "                .merge(item_name.rename(columns={'item_name': 'itemB'}), left_on='item_B', right_on='item_id'))\n",
    "    return rules[columns]"
   ]
  },
  {
   "cell_type": "code",
   "execution_count": 132,
   "metadata": {},
   "outputs": [],
   "source": [
    "#Function for trigerring the rule mining\n",
    "\n",
    "def association_rules(order_item, min_support):\n",
    "\n",
    "    print(\"Starting order_item: {:22d}\".format(len(order_item)))\n",
    "\n",
    "\n",
    "    # Calculate item frequency and support\n",
    "    item_stats             = freq(order_item).to_frame(\"freq\")\n",
    "    item_stats['support']  = item_stats['freq'] / order_count(order_item) * 100\n",
    "\n",
    "\n",
    "    # Filter from order_item items below min support \n",
    "    qualifying_items       = item_stats[item_stats['support'] >= min_support].index\n",
    "    order_item             = order_item[order_item.isin(qualifying_items)]\n",
    "\n",
    "    print(\"Items with support >= {}: {:15d}\".format(min_support, len(qualifying_items)))\n",
    "    print(\"Remaining order_item: {:21d}\".format(len(order_item)))\n",
    "\n",
    "\n",
    "    # Filter from order_item orders with less than 2 items\n",
    "    order_size             = freq(order_item.index)\n",
    "    qualifying_orders      = order_size[order_size >= 2].index\n",
    "    order_item             = order_item[order_item.index.isin(qualifying_orders)]\n",
    "\n",
    "    print(\"Remaining orders with 2+ items: {:11d}\".format(len(qualifying_orders)))\n",
    "    print(\"Remaining order_item: {:21d}\".format(len(order_item)))\n",
    "\n",
    "\n",
    "    # Recalculate item frequency and support\n",
    "    item_stats             = freq(order_item).to_frame(\"freq\")\n",
    "    item_stats['support']  = item_stats['freq'] / order_count(order_item) * 100\n",
    "\n",
    "\n",
    "    # Get item pairs generator\n",
    "    item_pair_gen          = get_item_pairs(order_item)\n",
    "\n",
    "\n",
    "    # Calculate item pair frequency and support\n",
    "    item_pairs              = freq(item_pair_gen).to_frame(\"freqAB\")\n",
    "    item_pairs['supportAB'] = item_pairs['freqAB'] / len(qualifying_orders) * 100\n",
    "\n",
    "    print(\"Item pairs: {:31d}\".format(len(item_pairs)))\n",
    "\n",
    "\n",
    "    # Filter from item_pairs those below min support\n",
    "    item_pairs              = item_pairs[item_pairs['supportAB'] >= min_support]\n",
    "\n",
    "    print(\"Item pairs with support >= {}: {:10d}\\n\".format(min_support, len(item_pairs)))\n",
    "\n",
    "\n",
    "    # Create table of association rules and compute relevant metrics\n",
    "    item_pairs = item_pairs.reset_index().rename(columns={'level_0': 'item_A', 'level_1': 'item_B'})\n",
    "    item_pairs = merge_item_stats(item_pairs, item_stats)\n",
    "    \n",
    "    item_pairs['confidenceAtoB'] = item_pairs['supportAB'] / item_pairs['supportA']\n",
    "    item_pairs['confidenceBtoA'] = item_pairs['supportAB'] / item_pairs['supportB']\n",
    "    item_pairs['lift']           = item_pairs['supportAB'] / (item_pairs['supportA'] * item_pairs['supportB'])\n",
    "    \n",
    "    \n",
    "    # Return association rules sorted by lift in descending order\n",
    "    return item_pairs.sort_values('lift', ascending=False)"
   ]
  },
  {
   "cell_type": "code",
   "execution_count": 133,
   "metadata": {},
   "outputs": [
    {
     "name": "stdout",
     "output_type": "stream",
     "text": [
      "Starting order_item:                 397478\n",
      "Items with support >= 0.01:            3498\n",
      "Remaining order_item:                397311\n",
      "Remaining orders with 2+ items:       17116\n",
      "Remaining order_item:                395920\n",
      "Item pairs:                         3228552\n",
      "Item pairs with support >= 0.01:    1715074\n",
      "\n"
     ]
    }
   ],
   "source": [
    "#Running the model\n",
    "rules = association_rules(orders,0.01)"
   ]
  },
  {
   "cell_type": "code",
   "execution_count": 134,
   "metadata": {},
   "outputs": [],
   "source": [
    "#lets display the results\n",
    "\n",
    "#Replacing item id with item name\n",
    "item_name = pd.DataFrame()\n",
    "item_name['item_id'] = df['StockCode']\n",
    "item_name['item_name'] = df['Description']\n",
    "\n",
    "item_name.drop_duplicates(inplace=True)\n",
    "\n",
    "#replacing item id with item names\n",
    "final_result = merge_item_name(rules,item_name).sort_values('lift',ascending=False)\n",
    "\n",
    "#Filtering results based on lift value\n",
    "final_result = final_result[(final_result['lift'] > 1)]"
   ]
  },
  {
   "cell_type": "code",
   "execution_count": 135,
   "metadata": {},
   "outputs": [],
   "source": [
    "#Function for getting the results\n",
    "\n",
    "def item_bought_together(key):\n",
    "    return final_result[final_result['itemA']==key].head(10)"
   ]
  },
  {
   "cell_type": "code",
   "execution_count": 136,
   "metadata": {
    "scrolled": true
   },
   "outputs": [
    {
     "data": {
      "text/html": [
       "<div>\n",
       "<style scoped>\n",
       "    .dataframe tbody tr th:only-of-type {\n",
       "        vertical-align: middle;\n",
       "    }\n",
       "\n",
       "    .dataframe tbody tr th {\n",
       "        vertical-align: top;\n",
       "    }\n",
       "\n",
       "    .dataframe thead th {\n",
       "        text-align: right;\n",
       "    }\n",
       "</style>\n",
       "<table border=\"1\" class=\"dataframe\">\n",
       "  <thead>\n",
       "    <tr style=\"text-align: right;\">\n",
       "      <th></th>\n",
       "      <th>itemA</th>\n",
       "      <th>itemB</th>\n",
       "      <th>freqAB</th>\n",
       "      <th>supportAB</th>\n",
       "      <th>freqA</th>\n",
       "      <th>supportA</th>\n",
       "      <th>freqB</th>\n",
       "      <th>supportB</th>\n",
       "      <th>confidenceAtoB</th>\n",
       "      <th>confidenceBtoA</th>\n",
       "      <th>lift</th>\n",
       "    </tr>\n",
       "  </thead>\n",
       "  <tbody>\n",
       "    <tr>\n",
       "      <th>2481</th>\n",
       "      <td>ENVELOPE 50 ROMANTIC IMAGES</td>\n",
       "      <td>VINTAGE NOTEBOOK BEAUTY GIRL</td>\n",
       "      <td>2</td>\n",
       "      <td>0.011685</td>\n",
       "      <td>3</td>\n",
       "      <td>0.017527</td>\n",
       "      <td>2</td>\n",
       "      <td>0.011685</td>\n",
       "      <td>0.666667</td>\n",
       "      <td>1.000000</td>\n",
       "      <td>57.053333</td>\n",
       "    </tr>\n",
       "    <tr>\n",
       "      <th>2487</th>\n",
       "      <td>ENVELOPE 50 ROMANTIC IMAGES</td>\n",
       "      <td>LA PALMIERA WALL THERMOMETER</td>\n",
       "      <td>2</td>\n",
       "      <td>0.011685</td>\n",
       "      <td>3</td>\n",
       "      <td>0.017527</td>\n",
       "      <td>10</td>\n",
       "      <td>0.058425</td>\n",
       "      <td>0.666667</td>\n",
       "      <td>0.200000</td>\n",
       "      <td>11.410667</td>\n",
       "    </tr>\n",
       "    <tr>\n",
       "      <th>2525</th>\n",
       "      <td>ENVELOPE 50 ROMANTIC IMAGES</td>\n",
       "      <td>ENGLISH ROSE NOTEBOOK A6 SIZE</td>\n",
       "      <td>2</td>\n",
       "      <td>0.011685</td>\n",
       "      <td>3</td>\n",
       "      <td>0.017527</td>\n",
       "      <td>20</td>\n",
       "      <td>0.116850</td>\n",
       "      <td>0.666667</td>\n",
       "      <td>0.100000</td>\n",
       "      <td>5.705333</td>\n",
       "    </tr>\n",
       "    <tr>\n",
       "      <th>2723</th>\n",
       "      <td>ENVELOPE 50 ROMANTIC IMAGES</td>\n",
       "      <td>SALLE DE BAIN HOOK</td>\n",
       "      <td>4</td>\n",
       "      <td>0.023370</td>\n",
       "      <td>3</td>\n",
       "      <td>0.017527</td>\n",
       "      <td>65</td>\n",
       "      <td>0.379762</td>\n",
       "      <td>1.333333</td>\n",
       "      <td>0.061538</td>\n",
       "      <td>3.510974</td>\n",
       "    </tr>\n",
       "    <tr>\n",
       "      <th>3104</th>\n",
       "      <td>ENVELOPE 50 ROMANTIC IMAGES</td>\n",
       "      <td>DINOSAUR HEIGHT CHART STICKER SET</td>\n",
       "      <td>2</td>\n",
       "      <td>0.011685</td>\n",
       "      <td>3</td>\n",
       "      <td>0.017527</td>\n",
       "      <td>35</td>\n",
       "      <td>0.204487</td>\n",
       "      <td>0.666667</td>\n",
       "      <td>0.057143</td>\n",
       "      <td>3.260190</td>\n",
       "    </tr>\n",
       "    <tr>\n",
       "      <th>3342</th>\n",
       "      <td>ENVELOPE 50 ROMANTIC IMAGES</td>\n",
       "      <td>MONEY BOX BISCUITS DESIGN</td>\n",
       "      <td>2</td>\n",
       "      <td>0.011685</td>\n",
       "      <td>3</td>\n",
       "      <td>0.017527</td>\n",
       "      <td>45</td>\n",
       "      <td>0.262912</td>\n",
       "      <td>0.666667</td>\n",
       "      <td>0.044444</td>\n",
       "      <td>2.535704</td>\n",
       "    </tr>\n",
       "    <tr>\n",
       "      <th>3708</th>\n",
       "      <td>ENVELOPE 50 ROMANTIC IMAGES</td>\n",
       "      <td>FELTCRAFT DOLL MARIA</td>\n",
       "      <td>2</td>\n",
       "      <td>0.011685</td>\n",
       "      <td>3</td>\n",
       "      <td>0.017527</td>\n",
       "      <td>47</td>\n",
       "      <td>0.274597</td>\n",
       "      <td>0.666667</td>\n",
       "      <td>0.042553</td>\n",
       "      <td>2.427801</td>\n",
       "    </tr>\n",
       "    <tr>\n",
       "      <th>4018</th>\n",
       "      <td>ENVELOPE 50 ROMANTIC IMAGES</td>\n",
       "      <td>MONEY BOX POCKET MONEY DESIGN</td>\n",
       "      <td>2</td>\n",
       "      <td>0.011685</td>\n",
       "      <td>3</td>\n",
       "      <td>0.017527</td>\n",
       "      <td>56</td>\n",
       "      <td>0.327179</td>\n",
       "      <td>0.666667</td>\n",
       "      <td>0.035714</td>\n",
       "      <td>2.037619</td>\n",
       "    </tr>\n",
       "    <tr>\n",
       "      <th>4400</th>\n",
       "      <td>ENVELOPE 50 ROMANTIC IMAGES</td>\n",
       "      <td>MONEY BOX KINGS CHOICE DESIGN</td>\n",
       "      <td>2</td>\n",
       "      <td>0.011685</td>\n",
       "      <td>3</td>\n",
       "      <td>0.017527</td>\n",
       "      <td>64</td>\n",
       "      <td>0.373919</td>\n",
       "      <td>0.666667</td>\n",
       "      <td>0.031250</td>\n",
       "      <td>1.782917</td>\n",
       "    </tr>\n",
       "    <tr>\n",
       "      <th>5065</th>\n",
       "      <td>ENVELOPE 50 ROMANTIC IMAGES</td>\n",
       "      <td>ORGANISER WOOD ANTIQUE WHITE</td>\n",
       "      <td>2</td>\n",
       "      <td>0.011685</td>\n",
       "      <td>3</td>\n",
       "      <td>0.017527</td>\n",
       "      <td>75</td>\n",
       "      <td>0.438186</td>\n",
       "      <td>0.666667</td>\n",
       "      <td>0.026667</td>\n",
       "      <td>1.521422</td>\n",
       "    </tr>\n",
       "  </tbody>\n",
       "</table>\n",
       "</div>"
      ],
      "text/plain": [
       "                            itemA                              itemB  freqAB  \\\n",
       "2481  ENVELOPE 50 ROMANTIC IMAGES       VINTAGE NOTEBOOK BEAUTY GIRL       2   \n",
       "2487  ENVELOPE 50 ROMANTIC IMAGES       LA PALMIERA WALL THERMOMETER       2   \n",
       "2525  ENVELOPE 50 ROMANTIC IMAGES      ENGLISH ROSE NOTEBOOK A6 SIZE       2   \n",
       "2723  ENVELOPE 50 ROMANTIC IMAGES                 SALLE DE BAIN HOOK       4   \n",
       "3104  ENVELOPE 50 ROMANTIC IMAGES  DINOSAUR HEIGHT CHART STICKER SET       2   \n",
       "3342  ENVELOPE 50 ROMANTIC IMAGES          MONEY BOX BISCUITS DESIGN       2   \n",
       "3708  ENVELOPE 50 ROMANTIC IMAGES               FELTCRAFT DOLL MARIA       2   \n",
       "4018  ENVELOPE 50 ROMANTIC IMAGES      MONEY BOX POCKET MONEY DESIGN       2   \n",
       "4400  ENVELOPE 50 ROMANTIC IMAGES      MONEY BOX KINGS CHOICE DESIGN       2   \n",
       "5065  ENVELOPE 50 ROMANTIC IMAGES      ORGANISER WOOD ANTIQUE WHITE        2   \n",
       "\n",
       "      supportAB  freqA  supportA  freqB  supportB  confidenceAtoB  \\\n",
       "2481   0.011685      3  0.017527      2  0.011685        0.666667   \n",
       "2487   0.011685      3  0.017527     10  0.058425        0.666667   \n",
       "2525   0.011685      3  0.017527     20  0.116850        0.666667   \n",
       "2723   0.023370      3  0.017527     65  0.379762        1.333333   \n",
       "3104   0.011685      3  0.017527     35  0.204487        0.666667   \n",
       "3342   0.011685      3  0.017527     45  0.262912        0.666667   \n",
       "3708   0.011685      3  0.017527     47  0.274597        0.666667   \n",
       "4018   0.011685      3  0.017527     56  0.327179        0.666667   \n",
       "4400   0.011685      3  0.017527     64  0.373919        0.666667   \n",
       "5065   0.011685      3  0.017527     75  0.438186        0.666667   \n",
       "\n",
       "      confidenceBtoA       lift  \n",
       "2481        1.000000  57.053333  \n",
       "2487        0.200000  11.410667  \n",
       "2525        0.100000   5.705333  \n",
       "2723        0.061538   3.510974  \n",
       "3104        0.057143   3.260190  \n",
       "3342        0.044444   2.535704  \n",
       "3708        0.042553   2.427801  \n",
       "4018        0.035714   2.037619  \n",
       "4400        0.031250   1.782917  \n",
       "5065        0.026667   1.521422  "
      ]
     },
     "execution_count": 136,
     "metadata": {},
     "output_type": "execute_result"
    }
   ],
   "source": [
    "#Change the key that is item name to see items bought together\n",
    "\n",
    "result = item_bought_together('ENVELOPE 50 ROMANTIC IMAGES')\n",
    "result"
   ]
  },
  {
   "cell_type": "markdown",
   "metadata": {},
   "source": [
    "# Time of time series prediction of top 10 products\n"
   ]
  },
  {
   "cell_type": "markdown",
   "metadata": {},
   "source": [
    "Assuming that the company ABC ranks top products based on first quantity of product sold and the frequency of purchase for the same"
   ]
  },
  {
   "cell_type": "code",
   "execution_count": 137,
   "metadata": {},
   "outputs": [],
   "source": [
    "#Adding week column to dataset\n",
    "df['week'] = pd.DatetimeIndex(df['InvoiceDate']).week"
   ]
  },
  {
   "cell_type": "code",
   "execution_count": 138,
   "metadata": {},
   "outputs": [],
   "source": [
    "#We will first filter our data to keep only top 10 products\n",
    "\n",
    "#Top selling product by quantity of product sold\n",
    "\n",
    "check['Description'] = df['Description']\n",
    "check['Quantity'] = df['Quantity']\n",
    "check['StockCode'] = df['StockCode']\n",
    "check['week'] = df['week']\n",
    "\n",
    "display = check.groupby(['Description'],as_index=False).agg({'Quantity':sum, 'StockCode':\"count\"})\n",
    "display.sort_values(by=['Quantity'],ascending=False,inplace=True)"
   ]
  },
  {
   "cell_type": "code",
   "execution_count": 139,
   "metadata": {},
   "outputs": [],
   "source": [
    "#Top selling product by quantity of product sold and frequency of purchase\n",
    "display.sort_values(by=['StockCode'],ascending=False,inplace=True)"
   ]
  },
  {
   "cell_type": "code",
   "execution_count": 140,
   "metadata": {
    "scrolled": true
   },
   "outputs": [
    {
     "data": {
      "text/plain": [
       "3698    WHITE HANGING HEART T-LIGHT HOLDER\n",
       "2767              REGENCY CAKESTAND 3 TIER\n",
       "1762               JUMBO BAG RED RETROSPOT\n",
       "216          ASSORTED COLOUR BIRD ORNAMENT\n",
       "2345                         PARTY BUNTING\n",
       "1943               LUNCH BAG RED RETROSPOT\n",
       "3001     SET OF 3 CAKE TINS PANTRY DESIGN \n",
       "1935               LUNCH BAG  BLACK SKULL.\n",
       "2611                               POSTAGE\n",
       "2269       PACK OF 72 RETROSPOT CAKE CASES\n",
       "Name: Description, dtype: object"
      ]
     },
     "execution_count": 140,
     "metadata": {},
     "output_type": "execute_result"
    }
   ],
   "source": [
    "display['Description'].head(10)"
   ]
  },
  {
   "cell_type": "code",
   "execution_count": 141,
   "metadata": {},
   "outputs": [],
   "source": [
    "df = df[(df['Description'] == 'WHITE HANGING HEART T-LIGHT HOLDER') | \n",
    "       (df['Description'] == 'REGENCY CAKESTAND 3 TIER') |\n",
    "       (df['Description'] == 'JUMBO BAG RED RETROSPOT') |\n",
    "       (df['Description'] == 'ASSORTED COLOUR BIRD ORNAMENT') |\n",
    "       (df['Description'] == 'PARTY BUNTING') |\n",
    "       (df['Description'] == 'LUNCH BAG RED RETROSPOT') |\n",
    "       (df['Description'] == 'SET OF 3 CAKE TINS PANTRY DESIGN ') |\n",
    "       (df['Description'] == 'LUNCH BAG  BLACK SKULL.') |\n",
    "       (df['Description'] == 'POSTAGE') |\n",
    "       (df['Description'] == 'PACK OF 72 RETROSPOT CAKE CASES')]"
   ]
  },
  {
   "cell_type": "markdown",
   "metadata": {},
   "source": [
    "We don't need all features for our predictions so lets get rid of them and keep what is required"
   ]
  },
  {
   "cell_type": "code",
   "execution_count": 142,
   "metadata": {},
   "outputs": [],
   "source": [
    "#creating new data frame with only required features\n",
    "ts  = pd.DataFrame()\n",
    "ts['Description'] = df['Description']\n",
    "ts['Quantity'] = df['Quantity']\n",
    "ts['InvoiceDate'] = df['InvoiceDate'].dt.date\n",
    "ts['InvoiceDate'] = pd.to_datetime(ts['InvoiceDate'])\n",
    "ts['month'] = df['month']\n",
    "ts['week'] = df['week']\n"
   ]
  },
  {
   "cell_type": "code",
   "execution_count": 143,
   "metadata": {
    "scrolled": true
   },
   "outputs": [],
   "source": [
    "#For first product\n",
    "#product = 'LUNCH BAG RED RETROSPOT'\n",
    "def building_data(product):\n",
    "    \n",
    "    p1 = pd.DataFrame()\n",
    "    p1['InvoiceDate'] = ts[ts['Description'] == product].InvoiceDate\n",
    "    p1['Quantity'] = ts[ts['Description'] == product].Quantity\n",
    "    p1['month'] = ts[ts['Description'] == product].month\n",
    "    p1['week'] = ts[ts['Description'] == product].week\n",
    "\n",
    "    p1 = p1.groupby('InvoiceDate')['Quantity'].sum().reset_index()\n",
    "\n",
    "\n",
    "    #setting invoice date as index\n",
    "    indexed_p1 = p1.set_index(['InvoiceDate'])\n",
    "\n",
    "    #Resampling our data to weekly frequency and dropping null\n",
    "    y = indexed_p1['Quantity'].resample('W').mean()\n",
    "    y = y.dropna()\n",
    "    \n",
    "    #Checking size for train test split\n",
    "    size = y.shape[0]\n",
    "    \n",
    "    print('data built')\n",
    "    return y"
   ]
  },
  {
   "cell_type": "code",
   "execution_count": 144,
   "metadata": {
    "scrolled": false
   },
   "outputs": [],
   "source": [
    "def plot_data(product_to_plot):\n",
    "    \n",
    "    #Plotting product quantity sold weekly\n",
    "    product_to_plot.plot(figsize=(15,6))\n",
    "    plt.xlabel(\"Date sampled weekly\")\n",
    "    plt.ylabel(\"Average quantity sold\")\n",
    "    plt.title(\"Quantity of product sold weekly\")\n",
    "    plt.show()\n",
    "\n",
    "\n",
    "    #Performing time-series decomposition to check trend,seasonility and noise\n",
    "\n",
    "    from pylab import rcParams\n",
    "    rcParams['figure.figsize'] = 18,8\n",
    "\n",
    "    decomposition = sm.tsa.seasonal_decompose(product_to_plot, freq=7, model='additive')\n",
    "    fig= decomposition.plot()\n",
    "    plt.show()\n"
   ]
  },
  {
   "cell_type": "markdown",
   "metadata": {},
   "source": [
    "# Implementing SARIMAX model"
   ]
  },
  {
   "cell_type": "code",
   "execution_count": 145,
   "metadata": {
    "scrolled": true
   },
   "outputs": [],
   "source": [
    "def sarimax(product_data,size):\n",
    "    # generating parameter combinations\n",
    "    #final_results = []\n",
    "    \n",
    "    #Train and test splitting\n",
    "    train_size = round(size * (80/100))\n",
    "    #print('Train size:',train_size)\n",
    "    test_size = (size - train_size)+1\n",
    "    #print('Test size:',test_size)\n",
    "\n",
    "    train = pd.DataFrame()\n",
    "    test = pd.DataFrame()\n",
    "\n",
    "    train = product_data.head(train_size)\n",
    "    test = product_data.tail(test_size)\n",
    "    \n",
    "\n",
    "    p=d=q=range(0,2)\n",
    "    pdq = list(itertools.product(p,d,q))\n",
    "    seasonal_pdq = [(x[0],x[1],x[2],6)\n",
    "    for x in list(itertools.product(p,d,q))]\n",
    "    # using param combinations to find best RMSE\n",
    "    RMSE_list = pd.DataFrame({}, columns=['param','param_seasonal','RMSE'])\n",
    "    for param in pdq:\n",
    "        for param_seasonal in seasonal_pdq:\n",
    "            try:\n",
    "            #Running the model\n",
    "                mod = sm.tsa.statespace.SARIMAX(train,order=param,seasonal_order = param_seasonal,enforce_stationarity=False,enforce_invertibility=False)\n",
    "                results = mod.fit()\n",
    "                output = results.predict(start=train_size+1,end=train_size+test_size)\n",
    "                #Calculating error for different model parameters\n",
    "                rmse = sqrt(mean_squared_error(test, output))\n",
    "                #print(rmse)\n",
    "                temp = pd.DataFrame([[param,param_seasonal,rmse]], columns=['param','param_seasonal', 'RMSE'])\n",
    "                RMSE_list = RMSE_list.append(temp, ignore_index=True)\n",
    "                del temp\n",
    "            except:\n",
    "                continue\n",
    "    m = np.amin(RMSE_list['RMSE'].values) # finding the lowest error value\n",
    "    l = RMSE_list['RMSE'].tolist().index(m) # extracting the index of lowest error value\n",
    "    minimum_rmse = RMSE_list.iloc[l,:] # Storing the final selected model parameters with lowest RMSE\n",
    "    #print('Lowest rmse:',minimum_rmse)\n",
    "    # Running the model with finalized parameters\n",
    "    print('Predicting weekly quantity required.....\\n')\n",
    "    mod = sm.tsa.statespace.SARIMAX(product_data,order=minimum_rmse['param'],seasonal_order=minimum_rmse['param_seasonal'],enforce_stationarity=False,enforce_invertibility=False)\n",
    "    results = mod.fit()\n",
    "    final_p = results.predict(start=size+1,end=size+12)\n",
    "    final_p[final_p<0] = 0\n",
    "    print(final_p)\n",
    "    print('-------------------------------------------------------------------------------')\n",
    "    return final_p\n"
   ]
  },
  {
   "cell_type": "markdown",
   "metadata": {},
   "source": [
    "# Driver code for time series prediction"
   ]
  },
  {
   "cell_type": "code",
   "execution_count": 146,
   "metadata": {},
   "outputs": [],
   "source": [
    "#Checking if we only have the data of top 10 products\n",
    "input_list = df['Description'].unique()"
   ]
  },
  {
   "cell_type": "code",
   "execution_count": 147,
   "metadata": {
    "scrolled": true
   },
   "outputs": [
    {
     "name": "stdout",
     "output_type": "stream",
     "text": [
      "Performing prediction for:  WHITE HANGING HEART T-LIGHT HOLDER\n",
      "data built\n",
      "Implementing model....\n",
      "Predicting weekly quantity required.....\n",
      "\n",
      "54    125.611228\n",
      "55    219.690038\n",
      "56    146.831746\n",
      "57    130.907781\n",
      "58    138.253675\n",
      "59    204.569434\n",
      "60    123.172920\n",
      "61    219.650830\n",
      "62    145.572397\n",
      "63    130.268975\n",
      "64    137.299272\n",
      "65    203.775537\n",
      "dtype: float64\n",
      "-------------------------------------------------------------------------------\n",
      "Performing prediction for:  ASSORTED COLOUR BIRD ORNAMENT\n",
      "data built\n",
      "Implementing model....\n",
      "Predicting weekly quantity required.....\n",
      "\n",
      "54    174.365024\n",
      "55    177.218393\n",
      "56    180.118455\n",
      "57    183.065975\n",
      "58    186.061729\n",
      "59    189.106507\n",
      "60    192.201110\n",
      "61    195.346355\n",
      "62    198.543069\n",
      "63    201.792096\n",
      "64    205.094290\n",
      "65    208.450523\n",
      "dtype: float64\n",
      "-------------------------------------------------------------------------------\n",
      "Performing prediction for:  POSTAGE\n",
      "data built\n",
      "Implementing model....\n",
      "Predicting weekly quantity required.....\n",
      "\n",
      "54    17.990654\n",
      "55    22.419807\n",
      "56    20.575152\n",
      "57    21.066418\n",
      "58    19.233457\n",
      "59    19.346188\n",
      "60    20.198411\n",
      "61    25.636829\n",
      "62    22.742440\n",
      "63    23.041251\n",
      "64    21.522754\n",
      "65    21.582443\n",
      "dtype: float64\n",
      "-------------------------------------------------------------------------------\n",
      "Performing prediction for:  LUNCH BAG RED RETROSPOT\n",
      "data built\n",
      "Implementing model....\n",
      "Predicting weekly quantity required.....\n",
      "\n",
      "54    60.194401\n",
      "55    60.895499\n",
      "56    65.879519\n",
      "57    65.396810\n",
      "58    64.075213\n",
      "59    62.450113\n",
      "60    61.758210\n",
      "61    62.011554\n",
      "62    63.812547\n",
      "63    63.638118\n",
      "64    63.160555\n",
      "65    62.573319\n",
      "dtype: float64\n",
      "-------------------------------------------------------------------------------\n",
      "Performing prediction for:  PACK OF 72 RETROSPOT CAKE CASES\n",
      "data built\n",
      "Implementing model....\n",
      "Predicting weekly quantity required.....\n",
      "\n",
      "54    74.712197\n",
      "55    73.443498\n",
      "56    72.435679\n",
      "57    71.191680\n",
      "58    70.168347\n",
      "59    68.942145\n",
      "60    67.853610\n",
      "61    66.783735\n",
      "62    65.729927\n",
      "63    64.693584\n",
      "64    63.672913\n",
      "65    62.669073\n",
      "dtype: float64\n",
      "-------------------------------------------------------------------------------\n",
      "Performing prediction for:  JUMBO BAG RED RETROSPOT\n",
      "data built\n",
      "Implementing model....\n",
      "Predicting weekly quantity required.....\n",
      "\n",
      "54    101.839110\n",
      "55     66.949621\n",
      "56     43.434979\n",
      "57     45.297314\n",
      "58     28.869826\n",
      "59     22.955154\n",
      "60     18.252244\n",
      "61     14.512837\n",
      "62     11.539536\n",
      "63      9.175388\n",
      "64      7.295591\n",
      "65      5.800915\n",
      "dtype: float64\n",
      "-------------------------------------------------------------------------------\n",
      "Performing prediction for:  LUNCH BAG  BLACK SKULL.\n",
      "data built\n",
      "Implementing model....\n",
      "Predicting weekly quantity required.....\n",
      "\n",
      "54    27.567416\n",
      "55    24.453697\n",
      "56    21.977394\n",
      "57    19.853866\n",
      "58    17.863055\n",
      "59    16.050439\n",
      "60    14.421754\n",
      "61    12.958337\n",
      "62    11.643416\n",
      "63    10.461925\n",
      "64     9.400323\n",
      "65     8.446445\n",
      "dtype: float64\n",
      "-------------------------------------------------------------------------------\n",
      "Performing prediction for:  REGENCY CAKESTAND 3 TIER\n",
      "data built\n",
      "Implementing model....\n",
      "Predicting weekly quantity required.....\n",
      "\n",
      "54    43.409778\n",
      "55    41.281047\n",
      "56    40.712734\n",
      "57    40.561010\n",
      "58    40.520503\n",
      "59    40.509689\n",
      "60    40.506802\n",
      "61    40.506031\n",
      "62    40.505826\n",
      "63    40.505771\n",
      "64    40.505756\n",
      "65    40.505752\n",
      "dtype: float64\n",
      "-------------------------------------------------------------------------------\n",
      "Performing prediction for:  PARTY BUNTING\n",
      "data built\n",
      "Implementing model....\n",
      "Predicting weekly quantity required.....\n",
      "\n",
      "54     9.942321\n",
      "55     6.447475\n",
      "56     0.000000\n",
      "57    11.709829\n",
      "58    11.729915\n",
      "59    11.817053\n",
      "60    12.165608\n",
      "61    13.007950\n",
      "62    15.990032\n",
      "63    11.739597\n",
      "64    11.734756\n",
      "65    11.713753\n",
      "dtype: float64\n",
      "-------------------------------------------------------------------------------\n",
      "Performing prediction for:  SET OF 3 CAKE TINS PANTRY DESIGN \n",
      "data built\n",
      "Implementing model....\n",
      "Predicting weekly quantity required.....\n",
      "\n",
      "54    26.75859\n",
      "55    26.75859\n",
      "56    26.75859\n",
      "57    26.75859\n",
      "58    26.75859\n",
      "59    26.75859\n",
      "60    26.75859\n",
      "61    26.75859\n",
      "62    26.75859\n",
      "63    26.75859\n",
      "64    26.75859\n",
      "65    26.75859\n",
      "dtype: float64\n",
      "-------------------------------------------------------------------------------\n"
     ]
    }
   ],
   "source": [
    "for i in input_list:\n",
    "    print('Performing prediction for: ',i)\n",
    "    prod = building_data(i)\n",
    "    print('Implementing model....')\n",
    "    sarimax(prod,size).head(12)"
   ]
  },
  {
   "cell_type": "markdown",
   "metadata": {},
   "source": [
    "# Drivercode to plot data and its seasonal decomposition "
   ]
  },
  {
   "cell_type": "code",
   "execution_count": 148,
   "metadata": {},
   "outputs": [
    {
     "name": "stdout",
     "output_type": "stream",
     "text": [
      "data built\n",
      "Plotting data for : ASSORTED COLOUR BIRD ORNAMENT\n"
     ]
    },
    {
     "data": {
      "image/png": "[encoded data removed]",
      "text/plain": [
       "<Figure size 1080x432 with 1 Axes>"
      ]
     },
     "metadata": {
      "needs_background": "light"
     },
     "output_type": "display_data"
    },
    {
     "data": {
      "image/png": "[encoded data removed]",
      "text/plain": [
       "<Figure size 1296x576 with 4 Axes>"
      ]
     },
     "metadata": {
      "needs_background": "light"
     },
     "output_type": "display_data"
    }
   ],
   "source": [
    "#Get data plotted for specific product, Just key in the value for input_list\n",
    "plot_this = building_data(input_list[1])\n",
    "print('Plotting data for :',input_list[1])\n",
    "plot_data(plot_this)"
   ]
  },
  {
   "cell_type": "code",
   "execution_count": null,
   "metadata": {},
   "outputs": [],
   "source": []
  }
 ],
 "metadata": {
  "kernelspec": {
   "display_name": "Python 3",
   "language": "python",
   "name": "python3"
  },
  "language_info": {
   "codemirror_mode": {
    "name": "ipython",
    "version": 3
   },
   "file_extension": ".py",
   "mimetype": "text/x-python",
   "name": "python",
   "nbconvert_exporter": "python",
   "pygments_lexer": "ipython3",
   "version": "3.7.1"
  }
 },
 "nbformat": 4,
 "nbformat_minor": 2
}
